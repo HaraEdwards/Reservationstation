{
  "nbformat": 4,
  "nbformat_minor": 0,
  "metadata": {
    "colab": {
      "provenance": [],
      "mount_file_id": "1X35UAzfBNOwBCcJCn5rPQEUCZaSfOjbx",
      "authorship_tag": "ABX9TyN93RVYXkxNvVrJWacOwv4/",
      "include_colab_link": true
    },
    "kernelspec": {
      "name": "python3",
      "display_name": "Python 3"
    },
    "language_info": {
      "name": "python"
    }
  },
  "cells": [
    {
      "cell_type": "markdown",
      "metadata": {
        "id": "view-in-github",
        "colab_type": "text"
      },
      "source": [
        "<a href=\"https://colab.research.google.com/github/HaraEdwards/Reservationstation/blob/main/Reservation_Dataset.ipynb\" target=\"_parent\"><img src=\"https://colab.research.google.com/assets/colab-badge.svg\" alt=\"Open In Colab\"/></a>"
      ]
    },
    {
      "cell_type": "code",
      "source": [
        "import pandas as pd\n",
        "resco = pd.read_csv('/content/drive/MyDrive/MLIS & School/University of Denver/Classes/2023/Winter 2023/LIS 4220 Data Curation/Assignments/Data Paper/Paper/CSV Files/CO-Room Reservation.csv')\n",
        "uniques = resco['Created by'].unique()\n",
        "num = 0\n",
        "for i in uniques:\n",
        "    resco.loc[resco['Created by'] == i, ['Name']] = num\n",
        "    num += 1\n",
        "#print(resco.loc[resco['Created by'] == \"AFlood\"])\n",
        "resco.to_csv(, index=False)"
      ],
      "metadata": {
        "colab": {
          "base_uri": "https://localhost:8080/"
        },
        "id": "UllYm-vTL7K6",
        "outputId": "624dbf42-a74f-4b88-cec0-e7261a23638b"
      },
      "execution_count": 86,
      "outputs": [
        {
          "output_type": "stream",
          "name": "stdout",
          "text": [
            "     Name                   Area         Room  \\\n",
            "1924  172  3rd Floor Study Rooms        SR357   \n",
            "1925  172  3rd Floor Study Rooms        SR357   \n",
            "7406  172    Library Study Rooms  Library-112   \n",
            "7407  172    Library Study Rooms  Library-112   \n",
            "7408  172    Library Study Rooms  Library-112   \n",
            "7409  172    Library Study Rooms  Library-112   \n",
            "8230  172    Library Study Rooms  Library-113   \n",
            "8231  172    Library Study Rooms  Library-113   \n",
            "8232  172    Library Study Rooms  Library-113   \n",
            "8975  172    Library Study Rooms  Library-114   \n",
            "8976  172    Library Study Rooms  Library-114   \n",
            "8977  172    Library Study Rooms  Library-114   \n",
            "\n",
            "                             Start time                           End time  \\\n",
            "1924  07:00AM - Tuesday 11 January 2022  11:00AM - Tuesday 11 January 2022   \n",
            "1925  11:00AM - Tuesday 11 January 2022  03:00PM - Tuesday 11 January 2022   \n",
            "7406      10:00AM - Monday 06 June 2022      02:00PM - Monday 06 June 2022   \n",
            "7407      02:00PM - Monday 06 June 2022      06:00PM - Monday 06 June 2022   \n",
            "7408     08:00AM - Tuesday 07 June 2022     12:00PM - Tuesday 07 June 2022   \n",
            "7409     12:00PM - Tuesday 07 June 2022     04:00PM - Tuesday 07 June 2022   \n",
            "8230   12:00PM - Wednesday 08 June 2022   04:00PM - Wednesday 08 June 2022   \n",
            "8231   04:00PM - Wednesday 08 June 2022   08:00PM - Wednesday 08 June 2022   \n",
            "8232    08:00AM - Thursday 09 June 2022    12:00PM - Thursday 09 June 2022   \n",
            "8975    12:00PM - Thursday 09 June 2022    04:00PM - Thursday 09 June 2022   \n",
            "8976      08:00AM - Friday 10 June 2022      12:00PM - Friday 10 June 2022   \n",
            "8977      12:00PM - Friday 10 June 2022      04:00PM - Friday 10 June 2022   \n",
            "\n",
            "     Duration Full Description      Type Created by  Confirmation status  \\\n",
            "1924  4 hours              NaN  Internal     AFlood                  NaN   \n",
            "1925  4 hours              NaN  Internal     AFlood                  NaN   \n",
            "7406  4 hours              NaN  Internal     AFlood                  NaN   \n",
            "7407  4 hours              NaN  Internal     AFlood                  NaN   \n",
            "7408  4 hours              NaN  Internal     AFlood                  NaN   \n",
            "7409  4 hours              NaN  Internal     AFlood                  NaN   \n",
            "8230  4 hours              NaN  Internal     AFlood                  NaN   \n",
            "8231  4 hours              NaN  Internal     AFlood                  NaN   \n",
            "8232  4 hours              NaN  Internal     AFlood                  NaN   \n",
            "8975  4 hours              NaN  Internal     AFlood                  NaN   \n",
            "8976  4 hours              NaN  Internal     AFlood                  NaN   \n",
            "8977  4 hours              NaN  Internal     AFlood                  NaN   \n",
            "\n",
            "                          Last updated  \n",
            "1924  09:39AM - Monday 10 January 2022  \n",
            "1925  09:39AM - Monday 10 January 2022  \n",
            "7406     10:05AM - Monday 06 June 2022  \n",
            "7407     10:05AM - Monday 06 June 2022  \n",
            "7408     10:06AM - Monday 06 June 2022  \n",
            "7409     10:07AM - Monday 06 June 2022  \n",
            "8230    11:49AM - Tuesday 07 June 2022  \n",
            "8231  01:59PM - Wednesday 08 June 2022  \n",
            "8232  01:58PM - Wednesday 08 June 2022  \n",
            "8975  09:53AM - Wednesday 08 June 2022  \n",
            "8976   05:28PM - Thursday 09 June 2022  \n",
            "8977   05:28PM - Thursday 09 June 2022  \n"
          ]
        }
      ]
    },
    {
      "cell_type": "code",
      "source": [
        "import pandas as pd\n",
        "resco = pd.read_csv('/content/drive/MyDrive/MLIS & School/University of Denver/Classes/2023/Winter 2023/LIS 4220 Data Curation/Assignments/Data Paper/Paper/CSV Files/UT Room Reservations.csv')\n",
        "uniques = resco['Created by'].unique()\n",
        "num = 0\n",
        "for i in uniques:\n",
        "    resco.loc[resco['Created by'] == i, ['Name']] = num\n",
        "    num += 1\n",
        "#print(resco.loc[resco['Created by'] == \"AFlood\"])\n",
        "resco.to_csv('/content/drive/MyDrive/MLIS & School/University of Denver/Classes/2023/Winter 2023/LIS 4220 Data Curation/Assignments/Data Paper/Paper/CSV Files/UT Room ReservationsRename.csv', index=False)"
      ],
      "metadata": {
        "id": "43Iel_O0bgD8"
      },
      "execution_count": 3,
      "outputs": []
    }
  ]
}